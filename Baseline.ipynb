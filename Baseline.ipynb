{
 "cells": [
  {
   "cell_type": "code",
   "execution_count": 1,
   "metadata": {},
   "outputs": [],
   "source": [
    "import pandas as pd\n",
    "import matplotlib.pyplot as plt\n",
    "import spacy\n",
    "import seaborn as sns\n",
    "\n",
    "from sklearn.model_selection import train_test_split\n",
    "\n",
    "from sklearn.feature_extraction.text import TfidfVectorizer\n",
    "\n",
    "from sklearn.ensemble import RandomForestClassifier\n",
    "\n",
    "from sklearn.pipeline import Pipeline\n",
    "\n",
    "from sklearn.metrics import accuracy_score"
   ]
  },
  {
   "cell_type": "code",
   "execution_count": 2,
   "metadata": {},
   "outputs": [],
   "source": [
    "test = pd.read_csv('data/test.csv')\n",
    "train = pd.read_csv('data/train.csv')\n",
    "test_example = pd.read_csv('data/test.predictions_example.csv')"
   ]
  },
  {
   "cell_type": "code",
   "execution_count": 3,
   "metadata": {},
   "outputs": [
    {
     "data": {
      "text/plain": [
       "Request    0\n",
       "dtype: int64"
      ]
     },
     "execution_count": 3,
     "metadata": {},
     "output_type": "execute_result"
    }
   ],
   "source": [
    "test.isnull().sum()"
   ]
  },
  {
   "cell_type": "code",
   "execution_count": 4,
   "metadata": {},
   "outputs": [
    {
     "data": {
      "text/plain": [
       "Request    272\n",
       "Label        0\n",
       "dtype: int64"
      ]
     },
     "execution_count": 4,
     "metadata": {},
     "output_type": "execute_result"
    }
   ],
   "source": [
    "train.isnull().sum()"
   ]
  },
  {
   "cell_type": "code",
   "execution_count": 5,
   "metadata": {},
   "outputs": [
    {
     "data": {
      "text/html": [
       "<div>\n",
       "<style scoped>\n",
       "    .dataframe tbody tr th:only-of-type {\n",
       "        vertical-align: middle;\n",
       "    }\n",
       "\n",
       "    .dataframe tbody tr th {\n",
       "        vertical-align: top;\n",
       "    }\n",
       "\n",
       "    .dataframe thead th {\n",
       "        text-align: right;\n",
       "    }\n",
       "</style>\n",
       "<table border=\"1\" class=\"dataframe\">\n",
       "  <thead>\n",
       "    <tr style=\"text-align: right;\">\n",
       "      <th></th>\n",
       "      <th>Request</th>\n",
       "      <th>Label</th>\n",
       "    </tr>\n",
       "  </thead>\n",
       "  <tbody>\n",
       "    <tr>\n",
       "      <th>0</th>\n",
       "      <td>Adicionar música tomohisa yamashita à minha li...</td>\n",
       "      <td>add_to_playlist</td>\n",
       "    </tr>\n",
       "    <tr>\n",
       "      <th>1</th>\n",
       "      <td>Eu quero adicionando Aprite le finestre à minh...</td>\n",
       "      <td>add_to_playlist</td>\n",
       "    </tr>\n",
       "    <tr>\n",
       "      <th>2</th>\n",
       "      <td>Que curta-metragens estão tocando às 11 da man...</td>\n",
       "      <td>search_screening_event</td>\n",
       "    </tr>\n",
       "    <tr>\n",
       "      <th>3</th>\n",
       "      <td>precisa de uma sala em um que serve foie gras ...</td>\n",
       "      <td>book_restaurant</td>\n",
       "    </tr>\n",
       "    <tr>\n",
       "      <th>4</th>\n",
       "      <td>Atribuir 4 estrelas de 6 para a crônica, Deus ...</td>\n",
       "      <td>rate_book</td>\n",
       "    </tr>\n",
       "  </tbody>\n",
       "</table>\n",
       "</div>"
      ],
      "text/plain": [
       "                                             Request                   Label\n",
       "0  Adicionar música tomohisa yamashita à minha li...         add_to_playlist\n",
       "1  Eu quero adicionando Aprite le finestre à minh...         add_to_playlist\n",
       "2  Que curta-metragens estão tocando às 11 da man...  search_screening_event\n",
       "3  precisa de uma sala em um que serve foie gras ...         book_restaurant\n",
       "4  Atribuir 4 estrelas de 6 para a crônica, Deus ...               rate_book"
      ]
     },
     "execution_count": 5,
     "metadata": {},
     "output_type": "execute_result"
    }
   ],
   "source": [
    "train.head()"
   ]
  },
  {
   "cell_type": "code",
   "execution_count": 6,
   "metadata": {},
   "outputs": [
    {
     "data": {
      "text/plain": [
       "1984"
      ]
     },
     "execution_count": 6,
     "metadata": {},
     "output_type": "execute_result"
    }
   ],
   "source": [
    "len(test)"
   ]
  },
  {
   "cell_type": "code",
   "execution_count": 7,
   "metadata": {},
   "outputs": [
    {
     "data": {
      "text/plain": [
       "26799"
      ]
     },
     "execution_count": 7,
     "metadata": {},
     "output_type": "execute_result"
    }
   ],
   "source": [
    "len(train)"
   ]
  },
  {
   "cell_type": "code",
   "execution_count": 8,
   "metadata": {},
   "outputs": [
    {
     "data": {
      "text/plain": [
       "<matplotlib.axes._subplots.AxesSubplot at 0x275247cda58>"
      ]
     },
     "execution_count": 8,
     "metadata": {},
     "output_type": "execute_result"
    },
    {
     "data": {
      "image/png": "[encoded data removed]",
      "text/plain": [
       "<Figure size 432x288 with 1 Axes>"
      ]
     },
     "metadata": {},
     "output_type": "display_data"
    }
   ],
   "source": [
    "sns.countplot(data=train, y='Label')"
   ]
  },
  {
   "cell_type": "code",
   "execution_count": 9,
   "metadata": {},
   "outputs": [
    {
     "data": {
      "text/html": [
       "<div>\n",
       "<style scoped>\n",
       "    .dataframe tbody tr th:only-of-type {\n",
       "        vertical-align: middle;\n",
       "    }\n",
       "\n",
       "    .dataframe tbody tr th {\n",
       "        vertical-align: top;\n",
       "    }\n",
       "\n",
       "    .dataframe thead th {\n",
       "        text-align: right;\n",
       "    }\n",
       "</style>\n",
       "<table border=\"1\" class=\"dataframe\">\n",
       "  <thead>\n",
       "    <tr style=\"text-align: right;\">\n",
       "      <th></th>\n",
       "      <th>Request</th>\n",
       "      <th>Label</th>\n",
       "    </tr>\n",
       "  </thead>\n",
       "  <tbody>\n",
       "    <tr>\n",
       "      <th>26749</th>\n",
       "      <td>Vamos ver a loja do Sr. Chowdry, e Suzette pod...</td>\n",
       "      <td>no_intent</td>\n",
       "    </tr>\n",
       "    <tr>\n",
       "      <th>26750</th>\n",
       "      <td>Vamos ver se me tornarei duquesa, ou se não pa...</td>\n",
       "      <td>no_intent</td>\n",
       "    </tr>\n",
       "    <tr>\n",
       "      <th>26751</th>\n",
       "      <td>É uma perguntar para qual talvez não tenhamos ...</td>\n",
       "      <td>no_intent</td>\n",
       "    </tr>\n",
       "    <tr>\n",
       "      <th>26752</th>\n",
       "      <td>Vai ter a festa de Natal, mas podemos conversar.</td>\n",
       "      <td>no_intent</td>\n",
       "    </tr>\n",
       "    <tr>\n",
       "      <th>26753</th>\n",
       "      <td>Vamos fazer uma li de chamada antes das senhor...</td>\n",
       "      <td>no_intent</td>\n",
       "    </tr>\n",
       "    <tr>\n",
       "      <th>26754</th>\n",
       "      <td>É que... digo, eu não queria o Vinnie Van Lowe...</td>\n",
       "      <td>no_intent</td>\n",
       "    </tr>\n",
       "    <tr>\n",
       "      <th>26755</th>\n",
       "      <td>Preciso chegar lá dentro e materializar a orig...</td>\n",
       "      <td>no_intent</td>\n",
       "    </tr>\n",
       "    <tr>\n",
       "      <th>26756</th>\n",
       "      <td>É magnífico dedicar algum intervalo à si mesma...</td>\n",
       "      <td>no_intent</td>\n",
       "    </tr>\n",
       "    <tr>\n",
       "      <th>26757</th>\n",
       "      <td>É por não poder jogar futebol?</td>\n",
       "      <td>no_intent</td>\n",
       "    </tr>\n",
       "    <tr>\n",
       "      <th>26758</th>\n",
       "      <td>Vamos fazer um show na festa de Gina, sábado à...</td>\n",
       "      <td>no_intent</td>\n",
       "    </tr>\n",
       "    <tr>\n",
       "      <th>26759</th>\n",
       "      <td>Vamos colocar a polícia atrás dela, o conselho...</td>\n",
       "      <td>no_intent</td>\n",
       "    </tr>\n",
       "    <tr>\n",
       "      <th>26760</th>\n",
       "      <td>É fotografia colocar um boneco Mente Genial em...</td>\n",
       "      <td>no_intent</td>\n",
       "    </tr>\n",
       "    <tr>\n",
       "      <th>26761</th>\n",
       "      <td>Tempo perdido, tempo jogado fora.</td>\n",
       "      <td>book_restaurant</td>\n",
       "    </tr>\n",
       "    <tr>\n",
       "      <th>26762</th>\n",
       "      <td>É melhor ir embora... antes que eu diga insens...</td>\n",
       "      <td>no_intent</td>\n",
       "    </tr>\n",
       "    <tr>\n",
       "      <th>26763</th>\n",
       "      <td>Quero dizer, se eu quiser comer um esquilo ago...</td>\n",
       "      <td>no_intent</td>\n",
       "    </tr>\n",
       "    <tr>\n",
       "      <th>26764</th>\n",
       "      <td>É por isso que eu vou mudar a situação atual p...</td>\n",
       "      <td>no_intent</td>\n",
       "    </tr>\n",
       "    <tr>\n",
       "      <th>26765</th>\n",
       "      <td>É uma questão de dignidade encontrar o caminho...</td>\n",
       "      <td>no_intent</td>\n",
       "    </tr>\n",
       "    <tr>\n",
       "      <th>26766</th>\n",
       "      <td>Quero enviar um desses para cada membro da ass...</td>\n",
       "      <td>no_intent</td>\n",
       "    </tr>\n",
       "    <tr>\n",
       "      <th>26767</th>\n",
       "      <td>Vamos enviar uma equipe lá, ver se encontramos...</td>\n",
       "      <td>no_intent</td>\n",
       "    </tr>\n",
       "    <tr>\n",
       "      <th>26768</th>\n",
       "      <td>Vamos o caso de Vikram Narula... que se tornou...</td>\n",
       "      <td>no_intent</td>\n",
       "    </tr>\n",
       "    <tr>\n",
       "      <th>26769</th>\n",
       "      <td>É o trabalho dela vislumbrar a pessoa que mato...</td>\n",
       "      <td>no_intent</td>\n",
       "    </tr>\n",
       "    <tr>\n",
       "      <th>26770</th>\n",
       "      <td>É a sogra da Christina, outra pessoa.</td>\n",
       "      <td>no_intent</td>\n",
       "    </tr>\n",
       "    <tr>\n",
       "      <th>26771</th>\n",
       "      <td>Quais são as chances que vão te dar depois do ...</td>\n",
       "      <td>no_intent</td>\n",
       "    </tr>\n",
       "    <tr>\n",
       "      <th>26772</th>\n",
       "      <td>É uma música que toquei em todos os shows que ...</td>\n",
       "      <td>no_intent</td>\n",
       "    </tr>\n",
       "    <tr>\n",
       "      <th>26773</th>\n",
       "      <td>Posso te ver no próximo verão em Nantucket com...</td>\n",
       "      <td>no_intent</td>\n",
       "    </tr>\n",
       "    <tr>\n",
       "      <th>26774</th>\n",
       "      <td>Quer ir para um lugar apropriado para nos pega...</td>\n",
       "      <td>no_intent</td>\n",
       "    </tr>\n",
       "    <tr>\n",
       "      <th>26775</th>\n",
       "      <td>Vamos parar de surpreender por hoje, ok?</td>\n",
       "      <td>no_intent</td>\n",
       "    </tr>\n",
       "    <tr>\n",
       "      <th>26776</th>\n",
       "      <td>Posso ligar a alguém que talvez saiba onde ela...</td>\n",
       "      <td>no_intent</td>\n",
       "    </tr>\n",
       "    <tr>\n",
       "      <th>26777</th>\n",
       "      <td>Quero a pessoa certa... e fazer um casamento a...</td>\n",
       "      <td>no_intent</td>\n",
       "    </tr>\n",
       "    <tr>\n",
       "      <th>26778</th>\n",
       "      <td>Vai ficar aqui sentado no quarto, chorando com...</td>\n",
       "      <td>no_intent</td>\n",
       "    </tr>\n",
       "    <tr>\n",
       "      <th>26779</th>\n",
       "      <td>Vamos dar uma festa para você, meu amigo.</td>\n",
       "      <td>no_intent</td>\n",
       "    </tr>\n",
       "    <tr>\n",
       "      <th>26780</th>\n",
       "      <td>Quero dizer, que homem casado cuja esposa está...</td>\n",
       "      <td>no_intent</td>\n",
       "    </tr>\n",
       "    <tr>\n",
       "      <th>26781</th>\n",
       "      <td>Vamos demorar algumas horas a limpar tudo isto...</td>\n",
       "      <td>no_intent</td>\n",
       "    </tr>\n",
       "    <tr>\n",
       "      <th>26782</th>\n",
       "      <td>Abra o porta-malas, vou perceber se tem algo q...</td>\n",
       "      <td>no_intent</td>\n",
       "    </tr>\n",
       "    <tr>\n",
       "      <th>26783</th>\n",
       "      <td>É mais um item na lista do que todos devem exp...</td>\n",
       "      <td>no_intent</td>\n",
       "    </tr>\n",
       "    <tr>\n",
       "      <th>26784</th>\n",
       "      <td>Quero plena imunidade quanto àquilo que possas...</td>\n",
       "      <td>no_intent</td>\n",
       "    </tr>\n",
       "    <tr>\n",
       "      <th>26785</th>\n",
       "      <td>Faça uma pose sexy e indiferente, tipo cinema ...</td>\n",
       "      <td>no_intent</td>\n",
       "    </tr>\n",
       "    <tr>\n",
       "      <th>26786</th>\n",
       "      <td>Quer que minha mãe dê uma carona pra você?</td>\n",
       "      <td>no_intent</td>\n",
       "    </tr>\n",
       "    <tr>\n",
       "      <th>26787</th>\n",
       "      <td>É só uma questão de crônica tempo até que ele ...</td>\n",
       "      <td>no_intent</td>\n",
       "    </tr>\n",
       "    <tr>\n",
       "      <th>26788</th>\n",
       "      <td>Vamos escrever para Nichette agora e dizer a e...</td>\n",
       "      <td>no_intent</td>\n",
       "    </tr>\n",
       "    <tr>\n",
       "      <th>26789</th>\n",
       "      <td>Vamos materializar este filho da puta e derrub...</td>\n",
       "      <td>no_intent</td>\n",
       "    </tr>\n",
       "    <tr>\n",
       "      <th>26790</th>\n",
       "      <td>Vai ficar aqui o tempo. que quiser, Sou o vice...</td>\n",
       "      <td>no_intent</td>\n",
       "    </tr>\n",
       "    <tr>\n",
       "      <th>26791</th>\n",
       "      <td>Quer dizer que o melhor artista country veio p...</td>\n",
       "      <td>no_intent</td>\n",
       "    </tr>\n",
       "    <tr>\n",
       "      <th>26792</th>\n",
       "      <td>É tudo altamente mecanizado, por isso todas av...</td>\n",
       "      <td>no_intent</td>\n",
       "    </tr>\n",
       "    <tr>\n",
       "      <th>26793</th>\n",
       "      <td>Posso renderizar cores a um camaleão, mudar de...</td>\n",
       "      <td>no_intent</td>\n",
       "    </tr>\n",
       "    <tr>\n",
       "      <th>26794</th>\n",
       "      <td>É possível que a queixada desse cara absorva p...</td>\n",
       "      <td>no_intent</td>\n",
       "    </tr>\n",
       "    <tr>\n",
       "      <th>26795</th>\n",
       "      <td>É incrível saber que tantas pessoas querem me ...</td>\n",
       "      <td>no_intent</td>\n",
       "    </tr>\n",
       "    <tr>\n",
       "      <th>26796</th>\n",
       "      <td>Vamos dar uma pausa para nossos comerciais, e ...</td>\n",
       "      <td>no_intent</td>\n",
       "    </tr>\n",
       "    <tr>\n",
       "      <th>26797</th>\n",
       "      <td>É com ele que está trabalhando no lu da Cindy?</td>\n",
       "      <td>no_intent</td>\n",
       "    </tr>\n",
       "    <tr>\n",
       "      <th>26798</th>\n",
       "      <td>Vamos dar uma olhadinha nessa Storybrooke.</td>\n",
       "      <td>no_intent</td>\n",
       "    </tr>\n",
       "  </tbody>\n",
       "</table>\n",
       "</div>"
      ],
      "text/plain": [
       "                                                 Request            Label\n",
       "26749  Vamos ver a loja do Sr. Chowdry, e Suzette pod...        no_intent\n",
       "26750  Vamos ver se me tornarei duquesa, ou se não pa...        no_intent\n",
       "26751  É uma perguntar para qual talvez não tenhamos ...        no_intent\n",
       "26752   Vai ter a festa de Natal, mas podemos conversar.        no_intent\n",
       "26753  Vamos fazer uma li de chamada antes das senhor...        no_intent\n",
       "26754  É que... digo, eu não queria o Vinnie Van Lowe...        no_intent\n",
       "26755  Preciso chegar lá dentro e materializar a orig...        no_intent\n",
       "26756  É magnífico dedicar algum intervalo à si mesma...        no_intent\n",
       "26757                     É por não poder jogar futebol?        no_intent\n",
       "26758  Vamos fazer um show na festa de Gina, sábado à...        no_intent\n",
       "26759  Vamos colocar a polícia atrás dela, o conselho...        no_intent\n",
       "26760  É fotografia colocar um boneco Mente Genial em...        no_intent\n",
       "26761                  Tempo perdido, tempo jogado fora.  book_restaurant\n",
       "26762  É melhor ir embora... antes que eu diga insens...        no_intent\n",
       "26763  Quero dizer, se eu quiser comer um esquilo ago...        no_intent\n",
       "26764  É por isso que eu vou mudar a situação atual p...        no_intent\n",
       "26765  É uma questão de dignidade encontrar o caminho...        no_intent\n",
       "26766  Quero enviar um desses para cada membro da ass...        no_intent\n",
       "26767  Vamos enviar uma equipe lá, ver se encontramos...        no_intent\n",
       "26768  Vamos o caso de Vikram Narula... que se tornou...        no_intent\n",
       "26769  É o trabalho dela vislumbrar a pessoa que mato...        no_intent\n",
       "26770              É a sogra da Christina, outra pessoa.        no_intent\n",
       "26771  Quais são as chances que vão te dar depois do ...        no_intent\n",
       "26772  É uma música que toquei em todos os shows que ...        no_intent\n",
       "26773  Posso te ver no próximo verão em Nantucket com...        no_intent\n",
       "26774  Quer ir para um lugar apropriado para nos pega...        no_intent\n",
       "26775           Vamos parar de surpreender por hoje, ok?        no_intent\n",
       "26776  Posso ligar a alguém que talvez saiba onde ela...        no_intent\n",
       "26777  Quero a pessoa certa... e fazer um casamento a...        no_intent\n",
       "26778  Vai ficar aqui sentado no quarto, chorando com...        no_intent\n",
       "26779          Vamos dar uma festa para você, meu amigo.        no_intent\n",
       "26780  Quero dizer, que homem casado cuja esposa está...        no_intent\n",
       "26781  Vamos demorar algumas horas a limpar tudo isto...        no_intent\n",
       "26782  Abra o porta-malas, vou perceber se tem algo q...        no_intent\n",
       "26783  É mais um item na lista do que todos devem exp...        no_intent\n",
       "26784  Quero plena imunidade quanto àquilo que possas...        no_intent\n",
       "26785  Faça uma pose sexy e indiferente, tipo cinema ...        no_intent\n",
       "26786         Quer que minha mãe dê uma carona pra você?        no_intent\n",
       "26787  É só uma questão de crônica tempo até que ele ...        no_intent\n",
       "26788  Vamos escrever para Nichette agora e dizer a e...        no_intent\n",
       "26789  Vamos materializar este filho da puta e derrub...        no_intent\n",
       "26790  Vai ficar aqui o tempo. que quiser, Sou o vice...        no_intent\n",
       "26791  Quer dizer que o melhor artista country veio p...        no_intent\n",
       "26792  É tudo altamente mecanizado, por isso todas av...        no_intent\n",
       "26793  Posso renderizar cores a um camaleão, mudar de...        no_intent\n",
       "26794  É possível que a queixada desse cara absorva p...        no_intent\n",
       "26795  É incrível saber que tantas pessoas querem me ...        no_intent\n",
       "26796  Vamos dar uma pausa para nossos comerciais, e ...        no_intent\n",
       "26797     É com ele que está trabalhando no lu da Cindy?        no_intent\n",
       "26798         Vamos dar uma olhadinha nessa Storybrooke.        no_intent"
      ]
     },
     "execution_count": 9,
     "metadata": {},
     "output_type": "execute_result"
    }
   ],
   "source": [
    "train.tail(50)"
   ]
  },
  {
   "cell_type": "code",
   "execution_count": 18,
   "metadata": {},
   "outputs": [
    {
     "data": {
      "text/plain": [
       "Request    0\n",
       "Label      0\n",
       "dtype: int64"
      ]
     },
     "execution_count": 18,
     "metadata": {},
     "output_type": "execute_result"
    }
   ],
   "source": [
    "def drop_nulls(train_data):\n",
    "\n",
    "    return train_data[train_data['Request'].notnull()]\n",
    "\n",
    "train = drop_nulls(train)\n",
    "train.isnull().sum()"
   ]
  },
  {
   "cell_type": "code",
   "execution_count": 19,
   "metadata": {},
   "outputs": [],
   "source": [
    "train_data, val_data = train_test_split(train, test_size=0.2, random_state=42)"
   ]
  },
  {
   "cell_type": "code",
   "execution_count": 20,
   "metadata": {},
   "outputs": [],
   "source": [
    "train_X, train_y = train_data['Request'], train_data['Label']"
   ]
  },
  {
   "cell_type": "code",
   "execution_count": 21,
   "metadata": {},
   "outputs": [],
   "source": [
    "val_X, val_y = val_data['Request'], val_data['Label']"
   ]
  },
  {
   "cell_type": "code",
   "execution_count": 22,
   "metadata": {},
   "outputs": [],
   "source": [
    "text_clf = Pipeline([('tfidf', TfidfVectorizer()),('clf', RandomForestClassifier(random_state=42))])"
   ]
  },
  {
   "cell_type": "code",
   "execution_count": 23,
   "metadata": {},
   "outputs": [
    {
     "data": {
      "text/plain": [
       "Pipeline(steps=[('tfidf', TfidfVectorizer(analyzer='word', binary=False, decode_error='strict',\n",
       "        dtype=<class 'numpy.int64'>, encoding='utf-8', input='content',\n",
       "        lowercase=True, max_df=1.0, max_features=None, min_df=1,\n",
       "        ngram_range=(1, 1), norm='l2', preprocessor=None, smooth_idf=True,\n",
       " ...stimators=10, n_jobs=1, oob_score=False, random_state=42,\n",
       "            verbose=0, warm_start=False))])"
      ]
     },
     "execution_count": 23,
     "metadata": {},
     "output_type": "execute_result"
    }
   ],
   "source": [
    "text_clf.fit(train_X, train_y)"
   ]
  },
  {
   "cell_type": "code",
   "execution_count": 24,
   "metadata": {},
   "outputs": [
    {
     "data": {
      "text/plain": [
       "0.87957029777610252"
      ]
     },
     "execution_count": 24,
     "metadata": {},
     "output_type": "execute_result"
    }
   ],
   "source": [
    "accuracy_score(val_y, text_clf.predict(val_X))"
   ]
  },
  {
   "cell_type": "code",
   "execution_count": null,
   "metadata": {},
   "outputs": [],
   "source": []
  }
 ],
 "metadata": {
  "kernelspec": {
   "display_name": "Python 3",
   "language": "python",
   "name": "python3"
  },
  "language_info": {
   "codemirror_mode": {
    "name": "ipython",
    "version": 3
   },
   "file_extension": ".py",
   "mimetype": "text/x-python",
   "name": "python",
   "nbconvert_exporter": "python",
   "pygments_lexer": "ipython3",
   "version": "3.5.5"
  }
 },
 "nbformat": 4,
 "nbformat_minor": 2
}
